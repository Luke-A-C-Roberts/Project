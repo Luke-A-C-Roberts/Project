{
 "cells": [
  {
   "cell_type": "code",
   "execution_count": 27,
   "metadata": {},
   "outputs": [],
   "source": [
    "from os import environ\n",
    "environ['TF_CPP_MIN_LOG_LEVEL'] = '2'\n",
    "\n",
    "import tensorflow as tf\n",
    "from icecream.icecream import ic"
   ]
  },
  {
   "cell_type": "code",
   "execution_count": 11,
   "metadata": {},
   "outputs": [
    {
     "name": "stderr",
     "output_type": "stream",
     "text": [
      "ic| x: <tf.Tensor: shape=(1, 1), dtype=float32, numpy=array([[4.]], dtype=float32)>\n",
      "ic| x: <tf.Tensor: shape=(2, 3), dtype=int32, numpy=\n",
      "       array([[1, 2, 3],\n",
      "              [4, 5, 6]], dtype=int32)>\n",
      "ic| x: <tf.Tensor: shape=(3, 3), dtype=float32, numpy=\n",
      "       array([[1., 1., 1.],\n",
      "              [1., 1., 1.],\n",
      "              [1., 1., 1.]], dtype=float32)>\n",
      "ic| x: <tf.Tensor: shape=(3, 3), dtype=float32, numpy=\n",
      "       array([[1., 0., 0.],\n",
      "              [0., 1., 0.],\n",
      "              [0., 0., 1.]], dtype=float32)>\n",
      "ic| x: <tf.Tensor: shape=(3, 3), dtype=float32, numpy=\n",
      "       array([[ 0.09425247, -1.2505125 , -0.17653139],\n",
      "              [-0.9704321 , -0.05855087,  0.1959745 ],\n",
      "              [-0.0589675 , -0.7278496 ,  1.3940358 ]], dtype=float32)>\n",
      "ic| x: <tf.Tensor: shape=(5,), dtype=int32, numpy=array([ 3,  5,  7,  9, 11], dtype=int32)>\n",
      "ic| x: <tf.Tensor: shape=(5,), dtype=float32, numpy=array([ 3.,  5.,  7.,  9., 11.], dtype=float32)>\n"
     ]
    }
   ],
   "source": [
    "# Initialisation\n",
    "\n",
    "x = tf.constant(4.0, shape=(1,1), dtype=tf.float32)\n",
    "ic(x)\n",
    "x = tf.constant([[1,2,3],[4,5,6]])\n",
    "ic(x)\n",
    "x = tf.ones((3, 3))\n",
    "ic(x)\n",
    "x = tf.eye(3)\n",
    "ic(x)\n",
    "x = tf.random.normal((3,3))\n",
    "ic(x)\n",
    "x = tf.range(3, 12, 2)\n",
    "ic(x)\n",
    "x = tf.cast(x, tf.float32)\n",
    "ic(x)\n",
    "\n",
    "None\n"
   ]
  },
  {
   "cell_type": "code",
   "execution_count": 22,
   "metadata": {},
   "outputs": [
    {
     "name": "stderr",
     "output_type": "stream",
     "text": [
      "ic| x: <tf.Tensor: shape=(3,), dtype=int32, numpy=array([1, 2, 3], dtype=int32)>\n",
      "    y: <tf.Tensor: shape=(3,), dtype=int32, numpy=array([5, 6, 7], dtype=int32)>\n",
      "ic| tf.add(x, y): <tf.Tensor: shape=(3,), dtype=int32, numpy=array([ 6,  8, 10], dtype=int32)>\n",
      "    x + y: <tf.Tensor: shape=(3,), dtype=int32, numpy=array([ 6,  8, 10], dtype=int32)>\n",
      "    tf.multiply(x, y): <tf.Tensor: shape=(3,), dtype=int32, numpy=array([ 5, 12, 21], dtype=int32)>\n",
      "    x * y: <tf.Tensor: shape=(3,), dtype=int32, numpy=array([ 5, 12, 21], dtype=int32)>\n",
      "    tf.pow(x, y): <tf.Tensor: shape=(3,), dtype=int32, numpy=array([   1,   64, 2187], dtype=int32)>\n",
      "    x ** y: <tf.Tensor: shape=(3,), dtype=int32, numpy=array([   1,   64, 2187], dtype=int32)>\n",
      "ic| tf.tensordot(x, y, axes=1): <tf.Tensor: shape=(), dtype=int32, numpy=38>\n",
      "    tf.reduce_sum(x*y, axis=0): <tf.Tensor: shape=(), dtype=int32, numpy=38>\n",
      "ic| tf.matmul(x, y): <tf.Tensor: shape=(3, 3), dtype=int32, numpy=\n",
      "                     array([[14, 16, 18],\n",
      "                            [ 4,  5,  6],\n",
      "                            [22, 26, 30]], dtype=int32)>\n"
     ]
    }
   ],
   "source": [
    "# Maths\n",
    "\n",
    "x = tf.range(1, 4)\n",
    "y = tf.range(5, 8)\n",
    "\n",
    "ic(x, y)\n",
    "\n",
    "ic(\n",
    "    tf.add(x, y),\n",
    "    x + y,\n",
    "    tf.multiply(x, y),\n",
    "    x * y,\n",
    "    tf.pow(x, y),\n",
    "    x ** y\n",
    ")\n",
    "\n",
    "# dotprod\n",
    "ic(\n",
    "    tf.tensordot(x, y, axes=1),\n",
    "    tf.reduce_sum(x*y, axis=0)\n",
    ")\n",
    "\n",
    "# matmul\n",
    "x = tf.constant([[0,0,2], [0,1,0], [1,0,3]])\n",
    "y = tf.reshape(tf.range(1, 10), shape=(3,3))\n",
    "ic(x, y)\n",
    "ic(tf.matmul(x, y))\n",
    "\n",
    "None"
   ]
  },
  {
   "cell_type": "code",
   "execution_count": 28,
   "metadata": {},
   "outputs": [
    {
     "name": "stderr",
     "output_type": "stream",
     "text": [
      "ic| x[:]: <tf.Tensor: shape=(12,), dtype=int32, numpy=array([ 0,  1,  2,  3,  4,  5,  6,  7,  8,  9, 10, 11], dtype=int32)>\n",
      "    x[1:]: <tf.Tensor: shape=(11,), dtype=int32, numpy=array([ 1,  2,  3,  4,  5,  6,  7,  8,  9, 10, 11], dtype=int32)>\n",
      "    x[1:3]: <tf.Tensor: shape=(2,), dtype=int32, numpy=array([1, 2], dtype=int32)>\n",
      "    x[::2]: <tf.Tensor: shape=(6,), dtype=int32, numpy=array([ 0,  2,  4,  6,  8, 10], dtype=int32)>\n",
      "ic| tf.gather(x, indeces): <tf.Tensor: shape=(2,), dtype=int32, numpy=array([0, 3], dtype=int32)>\n"
     ]
    },
    {
     "data": {
      "text/plain": [
       "<tf.Tensor: shape=(2,), dtype=int32, numpy=array([0, 3], dtype=int32)>"
      ]
     },
     "execution_count": 28,
     "metadata": {},
     "output_type": "execute_result"
    }
   ],
   "source": [
    "# Indexes\n",
    "\n",
    "x = tf.range(0, 12)\n",
    "\n",
    "ic(\n",
    "    x[:],\n",
    "    x[1:],\n",
    "    x[1:3],\n",
    "    x[::2]\n",
    ")\n",
    "\n",
    "indeces = tf.constant([0, 3])\n",
    "ic(tf.gather(x, indeces))"
   ]
  },
  {
   "cell_type": "markdown",
   "metadata": {},
   "source": [
    "[3Blue1Brown](https://www.youtube.com/playlist?list=PLZHQObOWTQDNU6R1_67000Dx_ZCJB-3pi)\n",
    "[NN Stuff](https://www.youtube.com/playlist?list=PLkDaE6sCZn6Ec-XTbcX1uRg2_u4xOEky0)\n",
    "[NN Stuff 2](https://www.youtube.com/playlist?list=PLkDaE6sCZn6Hn0vK8co82zjQtt3T2Nkqc)"
   ]
  },
  {
   "cell_type": "code",
   "execution_count": 32,
   "metadata": {},
   "outputs": [
    {
     "name": "stderr",
     "output_type": "stream",
     "text": [
      "WARNING:absl:`lr` is deprecated in Keras optimizer, please use `learning_rate` or use the legacy optimizer, e.g.,tf.keras.optimizers.legacy.Adam.\n"
     ]
    },
    {
     "name": "stdout",
     "output_type": "stream",
     "text": [
      "Epoch 1/5\n",
      "Epoch 2/5\n",
      "Epoch 3/5\n",
      "Epoch 4/5\n",
      "Epoch 5/5\n"
     ]
    },
    {
     "data": {
      "text/plain": [
       "[0.08710572123527527, 0.9763000011444092]"
      ]
     },
     "execution_count": 32,
     "metadata": {},
     "output_type": "execute_result"
    }
   ],
   "source": [
    "# Basic Neural Network\n",
    "\n",
    "from keras.datasets import mnist\n",
    "from keras.models import Sequential\n",
    "from keras.layers import Dense\n",
    "from keras.losses import SparseCategoricalCrossentropy\n",
    "from keras.optimizers import Adam\n",
    "from keras import Input, Model\n",
    "\n",
    "(x_train, y_train), (x_test, y_test) = mnist.load_data()\n",
    "x_train = x_train.reshape(-1, 28 ** 2).astype(\"float32\") / 255.0\n",
    "x_test = x_test.reshape(-1, 28 ** 2).astype(\"float32\") / 255.0\n",
    "\n",
    "# Sequential API\n",
    "\n",
    "model = Sequential(\n",
    "    [\n",
    "        Input(shape=(28**2)),\n",
    "        Dense(512, activation=\"relu\"),\n",
    "        Dense(256, activation=\"relu\"),\n",
    "        Dense(10)\n",
    "    ]\n",
    ")\n",
    "\n",
    "model.compile(\n",
    "    loss=SparseCategoricalCrossentropy(from_logits=True),\n",
    "    optimizer=Adam(lr=0.001),\n",
    "    metrics=\"accuracy\"\n",
    ")\n",
    "\n",
    "model.fit(x_train, y_train, batch_size=32, epochs=5, verbose=\"2\")\n",
    "model.evaluate(x_test, y_test, batch_size=32, verbose=\"2\")"
   ]
  },
  {
   "cell_type": "code",
   "execution_count": 37,
   "metadata": {},
   "outputs": [
    {
     "name": "stderr",
     "output_type": "stream",
     "text": [
      "WARNING:absl:`lr` is deprecated in Keras optimizer, please use `learning_rate` or use the legacy optimizer, e.g.,tf.keras.optimizers.legacy.Adam.\n"
     ]
    },
    {
     "name": "stdout",
     "output_type": "stream",
     "text": [
      "Epoch 1/5\n",
      "Epoch 2/5\n",
      "Epoch 3/5\n",
      "Epoch 4/5\n",
      "Epoch 5/5\n"
     ]
    },
    {
     "data": {
      "text/plain": [
       "[0.0826604887843132, 0.977400004863739]"
      ]
     },
     "execution_count": 37,
     "metadata": {},
     "output_type": "execute_result"
    }
   ],
   "source": [
    "# Functional API\n",
    "\n",
    "inputs = Input(shape=784)\n",
    "x = Dense(512, activation=\"relu\", name=\"first_layer\")(inputs)\n",
    "x = Dense(256, activation=\"relu\", name=\"second_layse\")(x)\n",
    "outputs = Dense(10, activation=\"softmax\")(x)gp\n",
    "model = Model(inputs=inputs, outputs=outputs)\n",
    "\n",
    "model.compile(\n",
    "    loss=SparseCategoricalCrossentropy(from_logits=False),\n",
    "    optimizer=Adam(lr=0.001),\n",
    "    metrics=[\"accuracy\"]\n",
    ")\n",
    "\n",
    "model.fit(x_train, y_train, batch_size=32, epochs=5, verbose=\"2\")\n",
    "model.evaluate(x_test, y_test, batch_size=32, verbose=\"2\")"
   ]
  },
  {
   "cell_type": "code",
   "execution_count": 39,
   "metadata": {},
   "outputs": [
    {
     "name": "stderr",
     "output_type": "stream",
     "text": [
      "ic| physical_devices: [LogicalDevice(name='/device:GPU:0', device_type='GPU')]\n"
     ]
    },
    {
     "data": {
      "text/plain": [
       "[LogicalDevice(name='/device:GPU:0', device_type='GPU')]"
      ]
     },
     "execution_count": 39,
     "metadata": {},
     "output_type": "execute_result"
    }
   ],
   "source": [
    "# CNNs\n",
    "\n",
    "from keras.datasets import cifar10\n",
    "\n",
    "physical_devices = tf.config.list_logical_devices(\"GPU\")\n",
    "ic(physical_devices)"
   ]
  },
  {
   "cell_type": "code",
   "execution_count": null,
   "metadata": {},
   "outputs": [],
   "source": []
  }
 ],
 "metadata": {
  "kernelspec": {
   "display_name": "Python 3 (ipykernel)",
   "language": "python",
   "name": "python3"
  },
  "language_info": {
   "codemirror_mode": {
    "name": "ipython",
    "version": 3
   },
   "file_extension": ".py",
   "mimetype": "text/x-python",
   "name": "python",
   "nbconvert_exporter": "python",
   "pygments_lexer": "ipython3",
   "version": "3.11.4"
  }
 },
 "nbformat": 4,
 "nbformat_minor": 2
}
