{
 "cells": [
  {
   "cell_type": "code",
   "execution_count": 1,
   "metadata": {},
   "outputs": [
    {
     "ename": "ModuleNotFoundError",
     "evalue": "No module named 'tensorflow'",
     "output_type": "error",
     "traceback": [
      "\u001b[0;31m---------------------------------------------------------------------------\u001b[0m",
      "\u001b[0;31mModuleNotFoundError\u001b[0m                       Traceback (most recent call last)",
      "Cell \u001b[0;32mIn[1], line 2\u001b[0m\n\u001b[1;32m      1\u001b[0m \u001b[38;5;28;01mimport\u001b[39;00m \u001b[38;5;21;01mmatplotlib\u001b[39;00m\u001b[38;5;21;01m.\u001b[39;00m\u001b[38;5;21;01mpyplot\u001b[39;00m \u001b[38;5;28;01mas\u001b[39;00m \u001b[38;5;21;01mplt\u001b[39;00m\n\u001b[0;32m----> 2\u001b[0m \u001b[38;5;28;01mimport\u001b[39;00m \u001b[38;5;21;01mtensorflow\u001b[39;00m \u001b[38;5;28;01mas\u001b[39;00m \u001b[38;5;21;01mtf\u001b[39;00m\n\u001b[1;32m      3\u001b[0m \u001b[38;5;28;01mimport\u001b[39;00m \u001b[38;5;21;01mkeras\u001b[39;00m\n",
      "\u001b[0;31mModuleNotFoundError\u001b[0m: No module named 'tensorflow'"
     ]
    }
   ],
   "source": [
    "import matplotlib.pyplot as plt\n",
    "import tensorflow as tf\n",
    "import keras\n"
   ]
  },
  {
   "cell_type": "code",
   "execution_count": null,
   "metadata": {},
   "outputs": [],
   "source": [
    "from skimage.restoration import denoise_nl_means\n",
    "from skimage.exposure import equalize_adapthist\n",
    "import numpy as np\n",
    "\n",
    "path = \"/home/luke/Downloads/images_gz2/images/31313.jpg\"\n",
    "f, ((ax0, ax1), (ax2, ax3)) = plt.subplots(nrows= 2,ncols=2, figsize=(10,10))\n",
    "ax0.imshow(data := tf.image.decode_jpeg(tf.io.read_file(path)).numpy())\n",
    "ax1.imshow(denoised := denoise_nl_means(data, channel_axis=-1, patch_size=3, patch_distance=3))\n",
    "ax2.imshow(highvals := np.where(data > 20, data, 0))\n",
    "ax3.imshow(preprocess := denoise_nl_means(highvals, channel_axis=-1, patch_size=3, patch_distance=3))\n",
    "\n",
    "print(np.mean(highvals))\n"
   ]
  },
  {
   "cell_type": "code",
   "execution_count": null,
   "metadata": {},
   "outputs": [],
   "source": [
    "import cv2 as cv\n",
    "\n",
    "f, ((ax0, ax1), (ax2, ax3)) = plt.subplots(nrows= 2,ncols=2, figsize=(10,10))\n",
    "ax0.imshow(data)\n",
    "ax1.imshow(nlm := cv.fastNlMeansDenoisingColored(data, None, 10, 10, 7, 21))\n",
    "ax2.imshow(cv.threshold(data, 10, 0, cv.THRESH_TOZERO, None)[1])\n",
    "ax3.imshow(cv.threshold(nlm, 10, 0, cv.THRESH_TOZERO, None)[1])"
   ]
  },
  {
   "cell_type": "code",
   "execution_count": null,
   "metadata": {},
   "outputs": [],
   "source": [
    "def preprocess(image:)"
   ]
  }
 ],
 "metadata": {
  "kernelspec": {
   "display_name": "Python 3 (ipykernel)",
   "language": "python",
   "name": "python3"
  },
  "language_info": {
   "codemirror_mode": {
    "name": "ipython",
    "version": 3
   },
   "file_extension": ".py",
   "mimetype": "text/x-python",
   "name": "python",
   "nbconvert_exporter": "python",
   "pygments_lexer": "ipython3",
   "version": "3.11.4"
  }
 },
 "nbformat": 4,
 "nbformat_minor": 2
}
