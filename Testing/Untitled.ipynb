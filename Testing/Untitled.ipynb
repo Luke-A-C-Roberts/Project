{
 "cells": [
  {
   "cell_type": "code",
   "execution_count": 1,
   "id": "fde0cac8",
   "metadata": {},
   "outputs": [],
   "source": [
    "import sys"
   ]
  },
  {
   "cell_type": "code",
   "execution_count": 2,
   "id": "b26953ad",
   "metadata": {},
   "outputs": [],
   "source": [
    "sys.path.append(\"/home/luke/Documents/Work/Project/Software/Final/\")"
   ]
  },
  {
   "cell_type": "code",
   "execution_count": 3,
   "id": "babf51a4",
   "metadata": {
    "scrolled": true
   },
   "outputs": [
    {
     "name": "stderr",
     "output_type": "stream",
     "text": [
      "2024-05-04 03:31:51.990584: I external/local_tsl/tsl/cuda/cudart_stub.cc:32] Could not find cuda drivers on your machine, GPU will not be used.\n",
      "2024-05-04 03:31:51.993883: I external/local_tsl/tsl/cuda/cudart_stub.cc:32] Could not find cuda drivers on your machine, GPU will not be used.\n",
      "2024-05-04 03:31:52.036114: I tensorflow/core/platform/cpu_feature_guard.cc:210] This TensorFlow binary is optimized to use available CPU instructions in performance-critical operations.\n",
      "To enable the following instructions: AVX2 FMA, in other operations, rebuild TensorFlow with the appropriate compiler flags.\n",
      "2024-05-04 03:31:53.138613: W tensorflow/compiler/tf2tensorrt/utils/py_utils.cc:38] TF-TRT Warning: Could not find TensorRT\n"
     ]
    }
   ],
   "source": [
    "import alexnet\n",
    "import resnet\n",
    "import densenet"
   ]
  },
  {
   "cell_type": "code",
   "execution_count": 4,
   "id": "f20cf1d3",
   "metadata": {},
   "outputs": [
    {
     "name": "stderr",
     "output_type": "stream",
     "text": [
      "2024-05-04 03:31:54.033378: I external/local_xla/xla/stream_executor/cuda/cuda_executor.cc:998] successful NUMA node read from SysFS had negative value (-1), but there must be at least one NUMA node, so returning NUMA node zero. See more at https://github.com/torvalds/linux/blob/v6.0/Documentation/ABI/testing/sysfs-bus-pci#L344-L355\n",
      "2024-05-04 03:31:54.033925: W tensorflow/core/common_runtime/gpu/gpu_device.cc:2251] Cannot dlopen some GPU libraries. Please make sure the missing libraries mentioned above are installed properly if you would like to use GPU. Follow the guide at https://www.tensorflow.org/install/gpu for how to download and setup the required libraries for your platform.\n",
      "Skipping registering GPU devices...\n"
     ]
    }
   ],
   "source": [
    "models = {\n",
    "    \"an\"   : alexnet.build_alexnet(4), \n",
    "    \"rn18\" : resnet.build_resnet(18, 4), \n",
    "    \"rn34\" : resnet.build_resnet(34, 4),\n",
    "    \"rn50\" : resnet.build_resnet(50, 4),\n",
    "    \"rn101\": resnet.build_resnet(101, 4), \n",
    "    \"rn152\": resnet.build_resnet(152, 4),\n",
    "    \"dn121\": densenet.build_densenet(121, 4),\n",
    "    \"dn169\": densenet.build_densenet(169, 4),\n",
    "    \"dn201\": densenet.build_densenet(201, 4),\n",
    "    \"dn264\": densenet.build_densenet(264, 4),\n",
    "}"
   ]
  },
  {
   "cell_type": "code",
   "execution_count": 5,
   "id": "0f150a55",
   "metadata": {},
   "outputs": [],
   "source": [
    "import keras as K\n",
    "import numpy as np"
   ]
  },
  {
   "cell_type": "code",
   "execution_count": 11,
   "id": "7517d37b",
   "metadata": {},
   "outputs": [
    {
     "name": "stdout",
     "output_type": "stream",
     "text": [
      "['an', 21597572, 21]\n",
      "['rn18', 11197380, 72]\n",
      "['rn34', 21316676, 128]\n",
      "['rn50', 23595908, 176]\n",
      "['rn101', 42666372, 346]\n",
      "['rn152', 58379140, 516]\n",
      "['dn121', 7041668, 429]\n",
      "['dn169', 12649604, 597]\n",
      "['dn201', 18329732, 709]\n",
      "['dn264', 31058052, 933]\n"
     ]
    }
   ],
   "source": [
    "for m, x in models.items():\n",
    "    print([m, x.count_params(), len(x.layers)])"
   ]
  },
  {
   "cell_type": "code",
   "execution_count": 7,
   "id": "bdf116ba",
   "metadata": {},
   "outputs": [
    {
     "data": {
      "text/plain": [
       "11197380"
      ]
     },
     "execution_count": 7,
     "metadata": {},
     "output_type": "execute_result"
    }
   ],
   "source": [
    "models[\"rn18\"].count_params()"
   ]
  },
  {
   "cell_type": "code",
   "execution_count": 21,
   "id": "91039a2b",
   "metadata": {},
   "outputs": [],
   "source": [
    "d = {\"name\": [*models.keys()], \"parameters\": [*map(lambda m: m.count_params(), models.values())], \"layers\": [*map(lambda m: len(m.layers), models.values())]}"
   ]
  },
  {
   "cell_type": "code",
   "execution_count": 22,
   "id": "8b46556f",
   "metadata": {},
   "outputs": [
    {
     "data": {
      "text/plain": [
       "{'name': ['an',\n",
       "  'rn18',\n",
       "  'rn34',\n",
       "  'rn50',\n",
       "  'rn101',\n",
       "  'rn152',\n",
       "  'dn121',\n",
       "  'dn169',\n",
       "  'dn201',\n",
       "  'dn264'],\n",
       " 'parameters': [21597572,\n",
       "  11197380,\n",
       "  21316676,\n",
       "  23595908,\n",
       "  42666372,\n",
       "  58379140,\n",
       "  7041668,\n",
       "  12649604,\n",
       "  18329732,\n",
       "  31058052],\n",
       " 'layers': [21, 72, 128, 176, 346, 516, 429, 597, 709, 933]}"
      ]
     },
     "execution_count": 22,
     "metadata": {},
     "output_type": "execute_result"
    }
   ],
   "source": [
    "d"
   ]
  },
  {
   "cell_type": "code",
   "execution_count": 29,
   "id": "cc50b6be",
   "metadata": {},
   "outputs": [
    {
     "name": "stdout",
     "output_type": "stream",
     "text": [
      "21\n",
      "72\n",
      "128\n",
      "176\n",
      "346\n",
      "516\n",
      "429\n",
      "597\n",
      "709\n",
      "933\n"
     ]
    }
   ],
   "source": [
    "for x in d[\"layers\"] : print(x)"
   ]
  },
  {
   "cell_type": "code",
   "execution_count": null,
   "id": "65a43d34",
   "metadata": {},
   "outputs": [],
   "source": []
  },
  {
   "cell_type": "code",
   "execution_count": null,
   "id": "63cb8858",
   "metadata": {},
   "outputs": [],
   "source": []
  }
 ],
 "metadata": {
  "kernelspec": {
   "display_name": "Python 3 (ipykernel)",
   "language": "python",
   "name": "python3"
  },
  "language_info": {
   "codemirror_mode": {
    "name": "ipython",
    "version": 3
   },
   "file_extension": ".py",
   "mimetype": "text/x-python",
   "name": "python",
   "nbconvert_exporter": "python",
   "pygments_lexer": "ipython3",
   "version": "3.11.4"
  }
 },
 "nbformat": 4,
 "nbformat_minor": 5
}
